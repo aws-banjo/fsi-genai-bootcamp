{
 "cells": [
  {
   "cell_type": "code",
   "execution_count": 1,
   "metadata": {},
   "outputs": [
    {
     "name": "stdout",
     "output_type": "stream",
     "text": [
      "Validating base environment\n",
      "Base environment validated successfully\n"
     ]
    },
    {
     "data": {
      "text/html": [
       "<pre style=\"white-space:pre;overflow-x:auto;line-height:normal;font-family:Menlo,'DejaVu Sans Mono',consolas,'Courier New',monospace\"><span style=\"color: #4cc9f0; text-decoration-color: #4cc9f0; font-weight: bold\">Validating lab environment from requirements.txt</span> ✨\n",
       "</pre>\n"
      ],
      "text/plain": [
       "\u001b[1;38;2;76;201;240mValidating lab environment from requirements.txt\u001b[0m ✨\n"
      ]
     },
     "metadata": {},
     "output_type": "display_data"
    },
    {
     "data": {
      "text/html": [
       "<pre style=\"white-space:pre;overflow-x:auto;line-height:normal;font-family:Menlo,'DejaVu Sans Mono',consolas,'Courier New',monospace\"><span style=\"color: #e85d04; text-decoration-color: #e85d04; font-weight: bold; text-decoration: underline\">ENVIRONMENT STATUS</span>\n",
       "✅ <span style=\"color: #008000; text-decoration-color: #008000\"> </span><span style=\"color: #008000; text-decoration-color: #008000\">langchain</span><span style=\"color: #008000; text-decoration-color: #008000\">==</span><span style=\"color: #008000; text-decoration-color: #008000; font-weight: bold\">0.3</span><span style=\"color: #008000; text-decoration-color: #008000\">.</span><span style=\"color: #008000; text-decoration-color: #008000; font-weight: bold\">7</span><span style=\"color: #008000; text-decoration-color: #008000\"> is installed</span>\n",
       "✅ <span style=\"color: #008000; text-decoration-color: #008000\"> langchain-</span><span style=\"color: #008000; text-decoration-color: #008000\">aws</span><span style=\"color: #008000; text-decoration-color: #008000\">==</span><span style=\"color: #008000; text-decoration-color: #008000; font-weight: bold\">0.2</span><span style=\"color: #008000; text-decoration-color: #008000\">.</span><span style=\"color: #008000; text-decoration-color: #008000; font-weight: bold\">6</span><span style=\"color: #008000; text-decoration-color: #008000\"> is installed</span>\n",
       "✅ <span style=\"color: #008000; text-decoration-color: #008000\"> langchain-</span><span style=\"color: #008000; text-decoration-color: #008000\">community</span><span style=\"color: #008000; text-decoration-color: #008000\">==</span><span style=\"color: #008000; text-decoration-color: #008000; font-weight: bold\">0.3</span><span style=\"color: #008000; text-decoration-color: #008000\">.</span><span style=\"color: #008000; text-decoration-color: #008000; font-weight: bold\">5</span><span style=\"color: #008000; text-decoration-color: #008000\"> is installed</span>\n",
       "✅ <span style=\"color: #008000; text-decoration-color: #008000\"> langchain-</span><span style=\"color: #008000; text-decoration-color: #008000\">core</span><span style=\"color: #008000; text-decoration-color: #008000\">==</span><span style=\"color: #008000; text-decoration-color: #008000; font-weight: bold\">0.3</span><span style=\"color: #008000; text-decoration-color: #008000\">.</span><span style=\"color: #008000; text-decoration-color: #008000; font-weight: bold\">15</span><span style=\"color: #008000; text-decoration-color: #008000\"> is installed</span>\n",
       "✅ <span style=\"color: #008000; text-decoration-color: #008000\"> langchain-text-</span><span style=\"color: #008000; text-decoration-color: #008000\">splitters</span><span style=\"color: #008000; text-decoration-color: #008000\">==</span><span style=\"color: #008000; text-decoration-color: #008000; font-weight: bold\">0.3</span><span style=\"color: #008000; text-decoration-color: #008000\">.</span><span style=\"color: #008000; text-decoration-color: #008000; font-weight: bold\">2</span><span style=\"color: #008000; text-decoration-color: #008000\"> is installed</span>\n",
       "✅ <span style=\"color: #008000; text-decoration-color: #008000\"> sqlalchemy is installed</span>\n",
       "✅ <span style=\"color: #008000; text-decoration-color: #008000\"> pypdf&gt;=</span><span style=\"color: #008000; text-decoration-color: #008000; font-weight: bold\">3.8</span><span style=\"color: #008000; text-decoration-color: #008000\">,&lt;</span><span style=\"color: #008000; text-decoration-color: #008000; font-weight: bold\">4</span><span style=\"color: #008000; text-decoration-color: #008000\"> is installed</span>\n",
       "✅ <span style=\"color: #008000; text-decoration-color: #008000\"> datasets is installed</span>\n",
       "✅ <span style=\"color: #008000; text-decoration-color: #008000\"> matplotlib is installed</span>\n",
       "✅ <span style=\"color: #008000; text-decoration-color: #008000\"> pymupdf  is installed</span>\n",
       "✅ <span style=\"color: #008000; text-decoration-color: #008000\"> </span><span style=\"color: #008000; text-decoration-color: #008000\">xmltodict</span><span style=\"color: #008000; text-decoration-color: #008000\">==</span><span style=\"color: #008000; text-decoration-color: #008000; font-weight: bold\">0.13</span><span style=\"color: #008000; text-decoration-color: #008000\">.</span><span style=\"color: #008000; text-decoration-color: #008000; font-weight: bold\">0</span><span style=\"color: #008000; text-decoration-color: #008000\"> is installed</span>\n",
       "✅ <span style=\"color: #008000; text-decoration-color: #008000\"> duckduckgo-search is installed</span>\n",
       "✅ <span style=\"color: #008000; text-decoration-color: #008000\"> </span><span style=\"color: #008000; text-decoration-color: #008000\">yfinance</span><span style=\"color: #008000; text-decoration-color: #008000\">==</span><span style=\"color: #008000; text-decoration-color: #008000; font-weight: bold\">0.2</span><span style=\"color: #008000; text-decoration-color: #008000\">.</span><span style=\"color: #008000; text-decoration-color: #008000; font-weight: bold\">40</span><span style=\"color: #008000; text-decoration-color: #008000\"> is installed</span>\n",
       "✅ <span style=\"color: #008000; text-decoration-color: #008000\"> pandas-datareader is installed</span>\n",
       "✅ <span style=\"color: #008000; text-decoration-color: #008000\"> pysqlite3 is installed</span>\n",
       "\n",
       "</pre>\n"
      ],
      "text/plain": [
       "\u001b[1;4;38;2;232;93;4mENVIRONMENT STATUS\u001b[0m\n",
       "✅ \u001b[32m \u001b[0m\u001b[32mlangchain\u001b[0m\u001b[32m==\u001b[0m\u001b[1;32m0.3\u001b[0m\u001b[32m.\u001b[0m\u001b[1;32m7\u001b[0m\u001b[32m is installed\u001b[0m\n",
       "✅ \u001b[32m langchain-\u001b[0m\u001b[32maws\u001b[0m\u001b[32m==\u001b[0m\u001b[1;32m0.2\u001b[0m\u001b[32m.\u001b[0m\u001b[1;32m6\u001b[0m\u001b[32m is installed\u001b[0m\n",
       "✅ \u001b[32m langchain-\u001b[0m\u001b[32mcommunity\u001b[0m\u001b[32m==\u001b[0m\u001b[1;32m0.3\u001b[0m\u001b[32m.\u001b[0m\u001b[1;32m5\u001b[0m\u001b[32m is installed\u001b[0m\n",
       "✅ \u001b[32m langchain-\u001b[0m\u001b[32mcore\u001b[0m\u001b[32m==\u001b[0m\u001b[1;32m0.3\u001b[0m\u001b[32m.\u001b[0m\u001b[1;32m15\u001b[0m\u001b[32m is installed\u001b[0m\n",
       "✅ \u001b[32m langchain-text-\u001b[0m\u001b[32msplitters\u001b[0m\u001b[32m==\u001b[0m\u001b[1;32m0.3\u001b[0m\u001b[32m.\u001b[0m\u001b[1;32m2\u001b[0m\u001b[32m is installed\u001b[0m\n",
       "✅ \u001b[32m sqlalchemy is installed\u001b[0m\n",
       "✅ \u001b[32m pypdf>=\u001b[0m\u001b[1;32m3.8\u001b[0m\u001b[32m,<\u001b[0m\u001b[1;32m4\u001b[0m\u001b[32m is installed\u001b[0m\n",
       "✅ \u001b[32m datasets is installed\u001b[0m\n",
       "✅ \u001b[32m matplotlib is installed\u001b[0m\n",
       "✅ \u001b[32m pymupdf  is installed\u001b[0m\n",
       "✅ \u001b[32m \u001b[0m\u001b[32mxmltodict\u001b[0m\u001b[32m==\u001b[0m\u001b[1;32m0.13\u001b[0m\u001b[32m.\u001b[0m\u001b[1;32m0\u001b[0m\u001b[32m is installed\u001b[0m\n",
       "✅ \u001b[32m duckduckgo-search is installed\u001b[0m\n",
       "✅ \u001b[32m \u001b[0m\u001b[32myfinance\u001b[0m\u001b[32m==\u001b[0m\u001b[1;32m0.2\u001b[0m\u001b[32m.\u001b[0m\u001b[1;32m40\u001b[0m\u001b[32m is installed\u001b[0m\n",
       "✅ \u001b[32m pandas-datareader is installed\u001b[0m\n",
       "✅ \u001b[32m pysqlite3 is installed\u001b[0m\n",
       "\n"
      ]
     },
     "metadata": {},
     "output_type": "display_data"
    },
    {
     "data": {
      "text/html": [
       "<pre style=\"white-space:pre;overflow-x:auto;line-height:normal;font-family:Menlo,'DejaVu Sans Mono',consolas,'Courier New',monospace\"><span style=\"color: #a7c957; text-decoration-color: #a7c957\">All required libraries are installed.🎉</span>\n",
       "<span style=\"color: #a7c957; text-decoration-color: #a7c957\">You may proceed with the lab! 🚀</span>\n",
       "</pre>\n"
      ],
      "text/plain": [
       "\u001b[38;2;167;201;87mAll required libraries are installed.🎉\u001b[0m\n",
       "\u001b[38;2;167;201;87mYou may proceed with the lab! 🚀\u001b[0m\n"
      ]
     },
     "metadata": {},
     "output_type": "display_data"
    }
   ],
   "source": [
    "import sys\n",
    "import os\n",
    "module_path = \"..\"\n",
    "sys.path.append(os.path.abspath(module_path))\n",
    "from utils.environment_validation import validate_environment, validate_model_access\n",
    "validate_environment()"
   ]
  },
  {
   "cell_type": "code",
   "execution_count": 2,
   "metadata": {},
   "outputs": [
    {
     "data": {
      "text/html": [
       "<pre style=\"white-space:pre;overflow-x:auto;line-height:normal;font-family:Menlo,'DejaVu Sans Mono',consolas,'Courier New',monospace\"><span style=\"color: #e85d04; text-decoration-color: #e85d04; font-weight: bold; text-decoration: underline\">MODEL ACCESS STATUS</span>\n",
       "✅ <span style=\"color: #008000; text-decoration-color: #008000\"> amazon.nova-pro-v</span><span style=\"color: #008000; text-decoration-color: #008000; font-weight: bold\">1:0</span><span style=\"color: #008000; text-decoration-color: #008000\"> is accessible</span>\n",
       "✅ <span style=\"color: #008000; text-decoration-color: #008000\"> amazon.nova-lite-v</span><span style=\"color: #008000; text-decoration-color: #008000; font-weight: bold\">1:0</span><span style=\"color: #008000; text-decoration-color: #008000\"> is accessible</span>\n",
       "✅ <span style=\"color: #008000; text-decoration-color: #008000\"> amazon.nova-micro-v</span><span style=\"color: #008000; text-decoration-color: #008000; font-weight: bold\">1:0</span><span style=\"color: #008000; text-decoration-color: #008000\"> is accessible</span>\n",
       "\n",
       "</pre>\n"
      ],
      "text/plain": [
       "\u001b[1;4;38;2;232;93;4mMODEL ACCESS STATUS\u001b[0m\n",
       "✅ \u001b[32m amazon.nova-pro-v\u001b[0m\u001b[1;32m1:0\u001b[0m\u001b[32m is accessible\u001b[0m\n",
       "✅ \u001b[32m amazon.nova-lite-v\u001b[0m\u001b[1;32m1:0\u001b[0m\u001b[32m is accessible\u001b[0m\n",
       "✅ \u001b[32m amazon.nova-micro-v\u001b[0m\u001b[1;32m1:0\u001b[0m\u001b[32m is accessible\u001b[0m\n",
       "\n"
      ]
     },
     "metadata": {},
     "output_type": "display_data"
    },
    {
     "data": {
      "text/html": [
       "<pre style=\"white-space:pre;overflow-x:auto;line-height:normal;font-family:Menlo,'DejaVu Sans Mono',consolas,'Courier New',monospace\"><span style=\"color: #a7c957; text-decoration-color: #a7c957\">All required models are accessible.🎉</span>\n",
       "<span style=\"color: #a7c957; text-decoration-color: #a7c957\">You may proceed with the lab! 🚀</span>\n",
       "</pre>\n"
      ],
      "text/plain": [
       "\u001b[38;2;167;201;87mAll required models are accessible.🎉\u001b[0m\n",
       "\u001b[38;2;167;201;87mYou may proceed with the lab! 🚀\u001b[0m\n"
      ]
     },
     "metadata": {},
     "output_type": "display_data"
    }
   ],
   "source": [
    "required_models = [\n",
    "    \"amazon.nova-pro-v1:0\",\n",
    "    \"amazon.nova-lite-v1:0\",\n",
    "    \"amazon.nova-micro-v1:0\",\n",
    "]\n",
    "validate_model_access(required_models)"
   ]
  },
  {
   "cell_type": "code",
   "execution_count": null,
   "metadata": {},
   "outputs": [],
   "source": []
  }
 ],
 "metadata": {
  "kernelspec": {
   "display_name": "base",
   "language": "python",
   "name": "python3"
  },
  "language_info": {
   "codemirror_mode": {
    "name": "ipython",
    "version": 3
   },
   "file_extension": ".py",
   "mimetype": "text/x-python",
   "name": "python",
   "nbconvert_exporter": "python",
   "pygments_lexer": "ipython3",
   "version": "3.11.9"
  }
 },
 "nbformat": 4,
 "nbformat_minor": 2
}
