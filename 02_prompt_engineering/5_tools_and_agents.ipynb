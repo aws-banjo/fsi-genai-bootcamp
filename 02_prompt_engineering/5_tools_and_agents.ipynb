{
 "cells": [
  {
   "cell_type": "markdown",
   "id": "88a5ab2f-d044-4956-b75b-7408d9c3e323",
   "metadata": {},
   "source": [
    "# Retrieval Augmented Generation with Amazon Bedrock - Retrieving Data Automatically from APIs\n",
    "\n",
    "> *PLEASE NOTE: This notebook should work well with the **`Data Science 3.0`** kernel in SageMaker Studio*\n",
    "\n",
    "---\n",
    "\n",
    "Throughout this workshop so far, we have been working with unstructured text retrieval via semantic similarity search. However, another important type of retrieval which customers can take advantage of with Amazon Bedrock is **structured data retrieval** from APIs. Structured data retrieval is extremely useful for augmenting LLM applications with up to date information which can be retrieved in a repeatable manner, but the outputs are always changing. An example of a question you might ask an LLM which uses this type of retrieval might be \"How long will it take for my Amazon.com order containing socks to arrive?\". In this notebook, we will show how to integrate an LLM with a backend API service which has the ability to answer a user's question through RAG.\n",
    "\n",
    "Specifically, we will be building a tool which is able to tell you the weather based on natural language. This is a fairly trivial example, but it does a good job of showing how multiple API tools can be used by an LLM to retrieve dynamic data to augment a prompt. Here is a visual of the architecture we will be building today.\n",
    "\n",
    "![api](./images/api.png)\n",
    "\n",
    "Let's get started!"
   ]
  },
  {
   "cell_type": "markdown",
   "id": "4c7cced6",
   "metadata": {},
   "source": [
    "---\n",
    "## Setup `boto3` Connection"
   ]
  },
  {
   "cell_type": "code",
   "execution_count": 1,
   "id": "85063bca",
   "metadata": {
    "tags": []
   },
   "outputs": [
    {
     "name": "stdout",
     "output_type": "stream",
     "text": [
      "Create new client\n",
      "  Using region: us-east-1\n",
      "boto3 Bedrock client successfully created!\n",
      "bedrock-runtime(https://bedrock-runtime.us-east-1.amazonaws.com)\n"
     ]
    }
   ],
   "source": [
    "import json\n",
    "import os\n",
    "import sys\n",
    "\n",
    "import boto3\n",
    "import botocore\n",
    "\n",
    "import xmltodict\n",
    "from rich import print as rprint\n",
    "\n",
    "module_path = \"..\"\n",
    "sys.path.append(os.path.abspath(module_path))\n",
    "from utils import bedrock\n",
    "from utils.prompt_utils import extract_docstring_info, construct_format_tool_for_claude_prompt\n",
    "\n",
    "boto3_bedrock = bedrock.get_bedrock_client(\n",
    "    assumed_role=os.environ.get(\"BEDROCK_ASSUME_ROLE\", None),\n",
    "    region=os.environ.get(\"AWS_DEFAULT_REGION\", None)\n",
    ")"
   ]
  },
  {
   "cell_type": "markdown",
   "id": "909f3e58",
   "metadata": {},
   "source": [
    "---\n",
    "## Defining the API Tools\n",
    "\n",
    "The first thing we need to do for our LLM is define the tools it has access to. In this case we will be defining local Python functions, but it is important to note that these could be any type of application service. Examples of what these tools might be on AWS include...\n",
    "\n",
    "* An AWS Lambda function\n",
    "* An Amazon RDS database connection\n",
    "* An Amazon DynamnoDB table\n",
    "  \n",
    "More generic examples include...\n",
    "\n",
    "* REST APIs\n",
    "* Data warehouses, data lakes, and databases\n",
    "* Computation engines\n",
    "\n",
    "In this case, we define two tools which reach external APIs below with two python functions\n",
    "1. the ability to retrieve the latitude and longitude of a place given a natural language input\n",
    "2. the ability to retrieve the weather given an input latitude and longitude"
   ]
  },
  {
   "cell_type": "code",
   "execution_count": 2,
   "id": "e8bb0dd6",
   "metadata": {
    "tags": []
   },
   "outputs": [],
   "source": [
    "import requests\n",
    "\n",
    "def get_weather(latitude: str, longitude: str):\n",
    "    \"\"\"\n",
    "    Fetches and returns the current weather for a given latitude and longitude from the Open-Meteo API.\n",
    "\n",
    "    Args:\n",
    "        latitude (str): The latitude of the location to fetch the weather for.\n",
    "        longitude (str): The longitude of the location to fetch the weather for.\n",
    "\n",
    "    Returns:\n",
    "        dict: A dictionary containing the current weather data for the given location.\n",
    "    \"\"\"\n",
    "    \n",
    "    \n",
    "    url = f\"https://api.open-meteo.com/v1/forecast?latitude={latitude}&longitude={longitude}&current_weather=true\"\n",
    "    response = requests.get(url)\n",
    "    return response.json()\n",
    "\n",
    "def get_lat_long(place: str):\n",
    "    \n",
    "    \"\"\"\n",
    "    Fetches and returns the latitude and longitude of a given place from the Nominatim OpenStreetMap API.\n",
    "\n",
    "    Args:\n",
    "        place (str): The name of the place to fetch the latitude and longitude for.\n",
    "\n",
    "    Returns:\n",
    "        dict: A dictionary containing the latitude and longitude of the given place, or None if the place was not found.\n",
    "    \"\"\"\n",
    "    \n",
    "    url = \"https://nominatim.openstreetmap.org/search\"\n",
    "    params = {'q': place, 'format': 'json', 'limit': 1}\n",
    "    response = requests.get(url, params=params).json()\n",
    "    if response:\n",
    "        lat = response[0][\"lat\"]\n",
    "        lon = response[0][\"lon\"]\n",
    "        return {\"latitude\": lat, \"longitude\": lon}\n",
    "    else:\n",
    "        return None\n",
    "\n",
    "def call_function(tool_name, parameters):\n",
    "    \n",
    "    \"\"\"\n",
    "    Calls a function with the given name and parameters.\n",
    "\n",
    "    This function uses the `globals()` function to find a function with the given name in the global scope, and then calls it with the given parameters.\n",
    "\n",
    "    Args:\n",
    "        tool_name (str): The name of the function to call.\n",
    "        parameters (dict): A dictionary of parameters to pass to the function.\n",
    "\n",
    "    Returns:\n",
    "        The output of the called function.\n",
    "    \"\"\"\n",
    "    \n",
    "    \n",
    "    func = globals()[tool_name]\n",
    "    output = func(**parameters)\n",
    "    return output"
   ]
  },
  {
   "cell_type": "markdown",
   "id": "b0b2d1c0",
   "metadata": {},
   "source": [
    "We also define a function called `call_function` which is used to abstract the tool name. You can see an example of determining the weather in Las Vegas below."
   ]
  },
  {
   "cell_type": "code",
   "execution_count": 3,
   "id": "92319d0c",
   "metadata": {
    "tags": []
   },
   "outputs": [
    {
     "name": "stdout",
     "output_type": "stream",
     "text": [
      "Weather in Las Vegas is...\n"
     ]
    },
    {
     "data": {
      "text/plain": [
       "{'latitude': 36.16438,\n",
       " 'longitude': -115.143936,\n",
       " 'generationtime_ms': 0.08499622344970703,\n",
       " 'utc_offset_seconds': 0,\n",
       " 'timezone': 'GMT',\n",
       " 'timezone_abbreviation': 'GMT',\n",
       " 'elevation': 620.0,\n",
       " 'current_weather_units': {'time': 'iso8601',\n",
       "  'interval': 'seconds',\n",
       "  'temperature': '°C',\n",
       "  'windspeed': 'km/h',\n",
       "  'winddirection': '°',\n",
       "  'is_day': '',\n",
       "  'weathercode': 'wmo code'},\n",
       " 'current_weather': {'time': '2024-04-08T14:45',\n",
       "  'interval': 900,\n",
       "  'temperature': 13.4,\n",
       "  'windspeed': 24.4,\n",
       "  'winddirection': 346,\n",
       "  'is_day': 1,\n",
       "  'weathercode': 2}}"
      ]
     },
     "execution_count": 3,
     "metadata": {},
     "output_type": "execute_result"
    }
   ],
   "source": [
    "place = 'Las Vegas'\n",
    "lat_long_response = call_function('get_lat_long', {'place' : place})\n",
    "weather_response = call_function('get_weather', lat_long_response)\n",
    "print(f'Weather in {place} is...')\n",
    "weather_response"
   ]
  },
  {
   "cell_type": "markdown",
   "id": "18203223",
   "metadata": {},
   "source": [
    "As you might expect, we have to describe our tools to our LLM, so it knows how to use them. The strings below describe the python functions for lat/long and weather to Claude in an XML friendly format which we have seen previously in the workshop."
   ]
  },
  {
   "cell_type": "code",
   "execution_count": 4,
   "id": "52e95846",
   "metadata": {},
   "outputs": [],
   "source": [
    "from langchain.chat_models import BedrockChat\n",
    "from langchain_core.prompts import ChatPromptTemplate\n",
    "from langchain_core.runnables import RunnablePassthrough, RunnableLambda\n",
    "from langchain_core.output_parsers import StrOutputParser\n",
    "\n",
    "model_id = \"anthropic.claude-3-sonnet-20240229-v1:0\"\n",
    "model_parameter = {\"temperature\": 0.0, \"max_tokens\": 2000}\n",
    "llm = BedrockChat(model_id=model_id, client=boto3_bedrock, model_kwargs=model_parameter, verbose=True)"
   ]
  },
  {
   "cell_type": "markdown",
   "id": "fcd637c5",
   "metadata": {},
   "source": [
    "---\n",
    "## Define Prompts to Orchestrate our LLM Using Tools\n",
    "\n",
    "Now that the tools are defined both programmatically and as a string, we can start orchestrating the flow which will answer user questions. The first step to this is creating a prompt which defines the rules of operation for Claude. In the prompt below, we provide explicit direction on how Claude should use tools to answer these questions."
   ]
  },
  {
   "cell_type": "code",
   "execution_count": 5,
   "id": "b0021532",
   "metadata": {},
   "outputs": [],
   "source": [
    "function_calling_prompt = \"\"\"\n",
    "\n",
    "Your job is to formulate a solution to a given <user-request> based on the instructions and tools below.\n",
    "\n",
    "Use these Instructions: \n",
    "1. In this environment you have access to a set of tools and functions you can use to answer the question.\n",
    "2. You can call the functions by using the <function_calls> format below.\n",
    "3. Only invoke one function at a time and wait for the results before invoking another function.\n",
    "4. The results of the function will be in xml tag <function_results>. \n",
    "5. Only use the information in the <function_results> to answer the question.\n",
    "6. Only make function calls if the answer is not already in the <function_results>.\n",
    "7. If you need to use the output of a function as an input to another function, you can do so.\n",
    "8. Put any intermediate reasoning steps into the <thoughts></thoughts> tags.\n",
    "9. Once you truly know the answer to the <user-request>, place the answer in <answer></answer> tags. Make sure to answer in a full sentence which is friendly.\n",
    "\n",
    "Here are the tools you can use:\n",
    "{tools_prompt}\n",
    "\n",
    "You may call them like this:\n",
    "<function_calls>\n",
    "<invoke>\n",
    "<tool_name>$TOOL_NAME</tool_name>\n",
    "<parameters>\n",
    "<$PARAMETER_NAME>$PARAMETER_VALUE</$PARAMETER_NAME>\n",
    "...\n",
    "</parameters>\n",
    "</invoke>\n",
    "</function_calls>\n",
    "\n",
    "Results from prior function calls are shown here. Do not repeat the same function call if you already have the results here.\n",
    "<function_results>\n",
    "{function_results}\n",
    "</function_results>\n",
    "\n",
    "<user-request>\n",
    "{user_request}\n",
    "</user-request>\n",
    "\"\"\"\n",
    "\n",
    "tools = [get_lat_long, get_weather]\n",
    "tool_prompt = \"\"\n",
    "for tool in tools:\n",
    "    docstring_info = extract_docstring_info(tool.__doc__)\n",
    "    tool_prompt += construct_format_tool_for_claude_prompt(tool.__name__, docstring_info['description'], docstring_info['params'])\n",
    "\n",
    "\n",
    "function_calling_prompt = ChatPromptTemplate.from_template(function_calling_prompt, partial_variables={\"tools_prompt\": tool_prompt})\n"
   ]
  },
  {
   "cell_type": "markdown",
   "id": "f331b2f1",
   "metadata": {},
   "source": [
    "When the model determines that it needs to invoke a tool, it will generate an xml output that specifies the tool to use and the input parameters to the tool. Since we can't use xml strings to invoke our tools, we convert the xml output to a dictionary and then use the `call_function` function to invoke the tool."
   ]
  },
  {
   "cell_type": "code",
   "execution_count": 6,
   "id": "6e5bd5c4",
   "metadata": {},
   "outputs": [],
   "source": [
    "def xml_to_dict(model_output: str):\n",
    "\n",
    "    \n",
    "    func_call_idx = model_output.find(\"<function_calls>\")\n",
    "    \n",
    "    invoke_xml = model_output[func_call_idx + len(\"<function_calls>\"):]\n",
    "    \n",
    "    invoke_dict = xmltodict.parse(invoke_xml)\n",
    "\n",
    "    return {\n",
    "        \"tool_name\": invoke_dict[\"invoke\"][\"tool_name\"],\n",
    "        \"parameters\": invoke_dict[\"invoke\"][\"parameters\"],\n",
    "    }"
   ]
  },
  {
   "cell_type": "code",
   "execution_count": 7,
   "id": "92fd51cb",
   "metadata": {},
   "outputs": [],
   "source": [
    "func_chain = (\n",
    "    function_calling_prompt\n",
    "    | llm.bind(stop=[\"</function_calls>\", \"</answer>\"])\n",
    "    | StrOutputParser()\n",
    ")"
   ]
  },
  {
   "cell_type": "markdown",
   "id": "42fd2f10",
   "metadata": {},
   "source": [
    "---\n",
    "## Executing the RAG Workflow\n",
    "\n",
    "Armed with our prompt and structured tools, we can now write an orchestration function which will iteratively step through the logical tasks to answer a user question. In the cell below we use the `invoke_model` function to generate a response with Claude and the `single_retriever_step` function to iteratively call tools when the LLM tells us we need to. The general flow works like this...\n",
    "\n",
    "1. The user enters an input to the application\n",
    "2. The user input is merged with the original prompt and sent to the LLM to determine the next step\n",
    "3. If the LLM knows the answer, it will answer and we are done. If not, go to next step 4.\n",
    "4. The LLM will determine which tool to use to answer the question.\n",
    "5. We will use the tool as directed by the LLM and retrieve the results.\n",
    "6. We provide the results back into the original prompt as more context.\n",
    "7. We ask the LLM the next step or if knows the answer.\n",
    "8. Return to step 3.\n",
    "\n",
    "We can orchestrate the entire workflow through a simple while loop where we continuously invoke the LLM until it has enough information to provide the final answer."
   ]
  },
  {
   "cell_type": "code",
   "execution_count": 9,
   "id": "db941a3a",
   "metadata": {},
   "outputs": [
    {
     "data": {
      "text/html": [
       "<pre style=\"white-space:pre;overflow-x:auto;line-height:normal;font-family:Menlo,'DejaVu Sans Mono',consolas,'Courier New',monospace\"><span style=\"color: #008000; text-decoration-color: #008000\">Okay, let me break this down step-by-step:</span>\n",
       "<span style=\"color: #008000; text-decoration-color: #008000; font-weight: bold\">&lt;thoughts</span><span style=\"color: #008000; text-decoration-color: #008000\">&gt;</span>\n",
       "<span style=\"color: #008000; text-decoration-color: #008000\">To get the weather for Las Vegas, I first need to get the latitude and longitude coordinates for Las Vegas using </span>\n",
       "<span style=\"color: #008000; text-decoration-color: #008000\">the get_lat_long tool. Then I can use those coordinates with the get_weather tool to fetch the current weather </span>\n",
       "<span style=\"color: #008000; text-decoration-color: #008000\">information.</span>\n",
       "<span style=\"color: #008000; text-decoration-color: #008000\">&lt;/thoughts&gt;</span>\n",
       "\n",
       "<span style=\"color: #008000; text-decoration-color: #008000\">&lt;function_calls&gt;</span>\n",
       "<span style=\"color: #008000; text-decoration-color: #008000\">&lt;invoke&gt;</span>\n",
       "<span style=\"color: #008000; text-decoration-color: #008000\">&lt;tool_name&gt;get_lat_long&lt;/tool_name&gt;</span>\n",
       "<span style=\"color: #008000; text-decoration-color: #008000\">&lt;parameters&gt;</span>\n",
       "<span style=\"color: #008000; text-decoration-color: #008000\">&lt;place&gt;Las Vegas&lt;/place&gt;</span>\n",
       "<span style=\"color: #008000; text-decoration-color: #008000\">&lt;/parameters&gt;</span>\n",
       "<span style=\"color: #008000; text-decoration-color: #008000\">&lt;/invoke</span><span style=\"color: #008000; text-decoration-color: #008000; font-weight: bold\">&gt;</span>\n",
       "\n",
       "</pre>\n"
      ],
      "text/plain": [
       "\u001b[32mOkay, let me break this down step-by-step:\u001b[0m\n",
       "\u001b[1;32m<\u001b[0m\u001b[1;32mthoughts\u001b[0m\u001b[32m>\u001b[0m\n",
       "\u001b[32mTo get the weather for Las Vegas, I first need to get the latitude and longitude coordinates for Las Vegas using \u001b[0m\n",
       "\u001b[32mthe get_lat_long tool. Then I can use those coordinates with the get_weather tool to fetch the current weather \u001b[0m\n",
       "\u001b[32minformation.\u001b[0m\n",
       "\u001b[32m<\u001b[0m\u001b[32m/\u001b[0m\u001b[32mthoughts\u001b[0m\u001b[32m>\u001b[0m\n",
       "\n",
       "\u001b[32m<function_calls>\u001b[0m\n",
       "\u001b[32m<invoke>\u001b[0m\n",
       "\u001b[32m<tool_name>get_lat_long<\u001b[0m\u001b[32m/\u001b[0m\u001b[32mtool_name\u001b[0m\u001b[32m>\u001b[0m\n",
       "\u001b[32m<parameters>\u001b[0m\n",
       "\u001b[32m<place>Las Vegas<\u001b[0m\u001b[32m/\u001b[0m\u001b[32mplace\u001b[0m\u001b[32m>\u001b[0m\n",
       "\u001b[32m<\u001b[0m\u001b[32m/\u001b[0m\u001b[32mparameters\u001b[0m\u001b[32m>\u001b[0m\n",
       "\u001b[32m<\u001b[0m\u001b[32m/\u001b[0m\u001b[32minvoke\u001b[0m\u001b[1;32m>\u001b[0m\n",
       "\n"
      ]
     },
     "metadata": {},
     "output_type": "display_data"
    },
    {
     "data": {
      "text/html": [
       "<pre style=\"white-space:pre;overflow-x:auto;line-height:normal;font-family:Menlo,'DejaVu Sans Mono',consolas,'Courier New',monospace\"><span style=\"color: #008080; text-decoration-color: #008080; font-weight: bold\">Calling function get_lat_long with parameters {</span><span style=\"color: #008080; text-decoration-color: #008080; font-weight: bold\">'place'</span><span style=\"color: #008080; text-decoration-color: #008080; font-weight: bold\">: </span><span style=\"color: #008080; text-decoration-color: #008080; font-weight: bold\">'Las Vegas'</span><span style=\"color: #008080; text-decoration-color: #008080; font-weight: bold\">} </span>\n",
       "</pre>\n"
      ],
      "text/plain": [
       "\u001b[1;36mCalling function get_lat_long with parameters \u001b[0m\u001b[1;36m{\u001b[0m\u001b[1;36m'place'\u001b[0m\u001b[1;36m: \u001b[0m\u001b[1;36m'Las Vegas'\u001b[0m\u001b[1;36m}\u001b[0m\u001b[1;36m \u001b[0m\n"
      ]
     },
     "metadata": {},
     "output_type": "display_data"
    },
    {
     "data": {
      "text/html": [
       "<pre style=\"white-space:pre;overflow-x:auto;line-height:normal;font-family:Menlo,'DejaVu Sans Mono',consolas,'Courier New',monospace\"><span style=\"color: #008080; text-decoration-color: #008080; font-weight: bold\">Function call results: {</span><span style=\"color: #008080; text-decoration-color: #008080; font-weight: bold\">'latitude'</span><span style=\"color: #008080; text-decoration-color: #008080; font-weight: bold\">: </span><span style=\"color: #008080; text-decoration-color: #008080; font-weight: bold\">'36.1672559'</span><span style=\"color: #008080; text-decoration-color: #008080; font-weight: bold\">, </span><span style=\"color: #008080; text-decoration-color: #008080; font-weight: bold\">'longitude'</span><span style=\"color: #008080; text-decoration-color: #008080; font-weight: bold\">: </span><span style=\"color: #008080; text-decoration-color: #008080; font-weight: bold\">'-115.148516'</span><span style=\"color: #008080; text-decoration-color: #008080; font-weight: bold\">} </span>\n",
       "</pre>\n"
      ],
      "text/plain": [
       "\u001b[1;36mFunction call results: \u001b[0m\u001b[1;36m{\u001b[0m\u001b[1;36m'latitude'\u001b[0m\u001b[1;36m: \u001b[0m\u001b[1;36m'36.1672559'\u001b[0m\u001b[1;36m, \u001b[0m\u001b[1;36m'longitude'\u001b[0m\u001b[1;36m: \u001b[0m\u001b[1;36m'-115.148516'\u001b[0m\u001b[1;36m}\u001b[0m\u001b[1;36m \u001b[0m\n"
      ]
     },
     "metadata": {},
     "output_type": "display_data"
    },
    {
     "data": {
      "text/html": [
       "<pre style=\"white-space:pre;overflow-x:auto;line-height:normal;font-family:Menlo,'DejaVu Sans Mono',consolas,'Courier New',monospace\"><span style=\"color: #008000; text-decoration-color: #008000; font-weight: bold\">&lt;thoughts</span><span style=\"color: #008000; text-decoration-color: #008000\">&gt;</span>\n",
       "<span style=\"color: #008000; text-decoration-color: #008000\">To get the weather for Las Vegas, I already have the latitude and longitude from the previous get_lat_long function</span>\n",
       "<span style=\"color: #008000; text-decoration-color: #008000\">call. I can use those coordinates to call the get_weather function and retrieve the current weather information.</span>\n",
       "<span style=\"color: #008000; text-decoration-color: #008000\">&lt;/thoughts&gt;</span>\n",
       "\n",
       "<span style=\"color: #008000; text-decoration-color: #008000\">&lt;function_calls&gt;</span>\n",
       "<span style=\"color: #008000; text-decoration-color: #008000\">&lt;invoke&gt;</span>\n",
       "<span style=\"color: #008000; text-decoration-color: #008000\">&lt;tool_name&gt;get_weather&lt;/tool_name&gt;</span>\n",
       "<span style=\"color: #008000; text-decoration-color: #008000\">&lt;parameters&gt;</span>\n",
       "<span style=\"color: #008000; text-decoration-color: #008000\">&lt;latitude&gt;</span><span style=\"color: #008000; text-decoration-color: #008000; font-weight: bold\">36.1672559</span><span style=\"color: #008000; text-decoration-color: #008000\">&lt;/latitude&gt;</span>\n",
       "<span style=\"color: #008000; text-decoration-color: #008000\">&lt;longitude&gt;</span><span style=\"color: #008000; text-decoration-color: #008000; font-weight: bold\">-115.148516</span><span style=\"color: #008000; text-decoration-color: #008000\">&lt;/longitude&gt;</span>\n",
       "<span style=\"color: #008000; text-decoration-color: #008000\">&lt;/parameters&gt;</span>\n",
       "<span style=\"color: #008000; text-decoration-color: #008000\">&lt;/invoke</span><span style=\"color: #008000; text-decoration-color: #008000; font-weight: bold\">&gt;</span>\n",
       "\n",
       "</pre>\n"
      ],
      "text/plain": [
       "\u001b[1;32m<\u001b[0m\u001b[1;32mthoughts\u001b[0m\u001b[32m>\u001b[0m\n",
       "\u001b[32mTo get the weather for Las Vegas, I already have the latitude and longitude from the previous get_lat_long function\u001b[0m\n",
       "\u001b[32mcall. I can use those coordinates to call the get_weather function and retrieve the current weather information.\u001b[0m\n",
       "\u001b[32m<\u001b[0m\u001b[32m/\u001b[0m\u001b[32mthoughts\u001b[0m\u001b[32m>\u001b[0m\n",
       "\n",
       "\u001b[32m<function_calls>\u001b[0m\n",
       "\u001b[32m<invoke>\u001b[0m\n",
       "\u001b[32m<tool_name>get_weather<\u001b[0m\u001b[32m/\u001b[0m\u001b[32mtool_name\u001b[0m\u001b[32m>\u001b[0m\n",
       "\u001b[32m<parameters>\u001b[0m\n",
       "\u001b[32m<latitude>\u001b[0m\u001b[1;32m36.1672559\u001b[0m\u001b[32m<\u001b[0m\u001b[32m/\u001b[0m\u001b[32mlatitude\u001b[0m\u001b[32m>\u001b[0m\n",
       "\u001b[32m<longitude>\u001b[0m\u001b[1;32m-115.148516\u001b[0m\u001b[32m<\u001b[0m\u001b[32m/\u001b[0m\u001b[32mlongitude\u001b[0m\u001b[32m>\u001b[0m\n",
       "\u001b[32m<\u001b[0m\u001b[32m/\u001b[0m\u001b[32mparameters\u001b[0m\u001b[32m>\u001b[0m\n",
       "\u001b[32m<\u001b[0m\u001b[32m/\u001b[0m\u001b[32minvoke\u001b[0m\u001b[1;32m>\u001b[0m\n",
       "\n"
      ]
     },
     "metadata": {},
     "output_type": "display_data"
    },
    {
     "data": {
      "text/html": [
       "<pre style=\"white-space:pre;overflow-x:auto;line-height:normal;font-family:Menlo,'DejaVu Sans Mono',consolas,'Courier New',monospace\"><span style=\"color: #008080; text-decoration-color: #008080; font-weight: bold\">Calling function get_weather with parameters {</span><span style=\"color: #008080; text-decoration-color: #008080; font-weight: bold\">'latitude'</span><span style=\"color: #008080; text-decoration-color: #008080; font-weight: bold\">: </span><span style=\"color: #008080; text-decoration-color: #008080; font-weight: bold\">'36.1672559'</span><span style=\"color: #008080; text-decoration-color: #008080; font-weight: bold\">, </span><span style=\"color: #008080; text-decoration-color: #008080; font-weight: bold\">'longitude'</span><span style=\"color: #008080; text-decoration-color: #008080; font-weight: bold\">: </span><span style=\"color: #008080; text-decoration-color: #008080; font-weight: bold\">'-115.148516'</span><span style=\"color: #008080; text-decoration-color: #008080; font-weight: bold\">} </span>\n",
       "</pre>\n"
      ],
      "text/plain": [
       "\u001b[1;36mCalling function get_weather with parameters \u001b[0m\u001b[1;36m{\u001b[0m\u001b[1;36m'latitude'\u001b[0m\u001b[1;36m: \u001b[0m\u001b[1;36m'36.1672559'\u001b[0m\u001b[1;36m, \u001b[0m\u001b[1;36m'longitude'\u001b[0m\u001b[1;36m: \u001b[0m\u001b[1;36m'-115.148516'\u001b[0m\u001b[1;36m}\u001b[0m\u001b[1;36m \u001b[0m\n"
      ]
     },
     "metadata": {},
     "output_type": "display_data"
    },
    {
     "data": {
      "text/html": [
       "<pre style=\"white-space:pre;overflow-x:auto;line-height:normal;font-family:Menlo,'DejaVu Sans Mono',consolas,'Courier New',monospace\"><span style=\"color: #008080; text-decoration-color: #008080; font-weight: bold\">Function call results: {</span><span style=\"color: #008080; text-decoration-color: #008080; font-weight: bold\">'latitude'</span><span style=\"color: #008080; text-decoration-color: #008080; font-weight: bold\">: </span><span style=\"color: #008080; text-decoration-color: #008080; font-weight: bold\">36.16438</span><span style=\"color: #008080; text-decoration-color: #008080; font-weight: bold\">, </span><span style=\"color: #008080; text-decoration-color: #008080; font-weight: bold\">'longitude'</span><span style=\"color: #008080; text-decoration-color: #008080; font-weight: bold\">: </span><span style=\"color: #008080; text-decoration-color: #008080; font-weight: bold\">-115.143936</span><span style=\"color: #008080; text-decoration-color: #008080; font-weight: bold\">, </span><span style=\"color: #008080; text-decoration-color: #008080; font-weight: bold\">'generationtime_ms'</span><span style=\"color: #008080; text-decoration-color: #008080; font-weight: bold\">: </span><span style=\"color: #008080; text-decoration-color: #008080; font-weight: bold\">0.07998943328857422</span><span style=\"color: #008080; text-decoration-color: #008080; font-weight: bold\">, </span>\n",
       "<span style=\"color: #008080; text-decoration-color: #008080; font-weight: bold\">'utc_offset_seconds'</span><span style=\"color: #008080; text-decoration-color: #008080; font-weight: bold\">: </span><span style=\"color: #008080; text-decoration-color: #008080; font-weight: bold\">0</span><span style=\"color: #008080; text-decoration-color: #008080; font-weight: bold\">, </span><span style=\"color: #008080; text-decoration-color: #008080; font-weight: bold\">'timezone'</span><span style=\"color: #008080; text-decoration-color: #008080; font-weight: bold\">: </span><span style=\"color: #008080; text-decoration-color: #008080; font-weight: bold\">'GMT'</span><span style=\"color: #008080; text-decoration-color: #008080; font-weight: bold\">, </span><span style=\"color: #008080; text-decoration-color: #008080; font-weight: bold\">'timezone_abbreviation'</span><span style=\"color: #008080; text-decoration-color: #008080; font-weight: bold\">: </span><span style=\"color: #008080; text-decoration-color: #008080; font-weight: bold\">'GMT'</span><span style=\"color: #008080; text-decoration-color: #008080; font-weight: bold\">, </span><span style=\"color: #008080; text-decoration-color: #008080; font-weight: bold\">'elevation'</span><span style=\"color: #008080; text-decoration-color: #008080; font-weight: bold\">: </span><span style=\"color: #008080; text-decoration-color: #008080; font-weight: bold\">620.0</span><span style=\"color: #008080; text-decoration-color: #008080; font-weight: bold\">, </span>\n",
       "<span style=\"color: #008080; text-decoration-color: #008080; font-weight: bold\">'current_weather_units'</span><span style=\"color: #008080; text-decoration-color: #008080; font-weight: bold\">: {</span><span style=\"color: #008080; text-decoration-color: #008080; font-weight: bold\">'time'</span><span style=\"color: #008080; text-decoration-color: #008080; font-weight: bold\">: </span><span style=\"color: #008080; text-decoration-color: #008080; font-weight: bold\">'iso8601'</span><span style=\"color: #008080; text-decoration-color: #008080; font-weight: bold\">, </span><span style=\"color: #008080; text-decoration-color: #008080; font-weight: bold\">'interval'</span><span style=\"color: #008080; text-decoration-color: #008080; font-weight: bold\">: </span><span style=\"color: #008080; text-decoration-color: #008080; font-weight: bold\">'seconds'</span><span style=\"color: #008080; text-decoration-color: #008080; font-weight: bold\">, </span><span style=\"color: #008080; text-decoration-color: #008080; font-weight: bold\">'temperature'</span><span style=\"color: #008080; text-decoration-color: #008080; font-weight: bold\">: </span><span style=\"color: #008080; text-decoration-color: #008080; font-weight: bold\">'°C'</span><span style=\"color: #008080; text-decoration-color: #008080; font-weight: bold\">, </span><span style=\"color: #008080; text-decoration-color: #008080; font-weight: bold\">'windspeed'</span><span style=\"color: #008080; text-decoration-color: #008080; font-weight: bold\">: </span><span style=\"color: #008080; text-decoration-color: #008080; font-weight: bold\">'km/h'</span><span style=\"color: #008080; text-decoration-color: #008080; font-weight: bold\">, </span>\n",
       "<span style=\"color: #008080; text-decoration-color: #008080; font-weight: bold\">'winddirection'</span><span style=\"color: #008080; text-decoration-color: #008080; font-weight: bold\">: </span><span style=\"color: #008080; text-decoration-color: #008080; font-weight: bold\">'°'</span><span style=\"color: #008080; text-decoration-color: #008080; font-weight: bold\">, </span><span style=\"color: #008080; text-decoration-color: #008080; font-weight: bold\">'is_day'</span><span style=\"color: #008080; text-decoration-color: #008080; font-weight: bold\">: </span><span style=\"color: #008080; text-decoration-color: #008080; font-weight: bold\">''</span><span style=\"color: #008080; text-decoration-color: #008080; font-weight: bold\">, </span><span style=\"color: #008080; text-decoration-color: #008080; font-weight: bold\">'weathercode'</span><span style=\"color: #008080; text-decoration-color: #008080; font-weight: bold\">: </span><span style=\"color: #008080; text-decoration-color: #008080; font-weight: bold\">'wmo code'</span><span style=\"color: #008080; text-decoration-color: #008080; font-weight: bold\">}, </span><span style=\"color: #008080; text-decoration-color: #008080; font-weight: bold\">'current_weather'</span><span style=\"color: #008080; text-decoration-color: #008080; font-weight: bold\">: {</span><span style=\"color: #008080; text-decoration-color: #008080; font-weight: bold\">'time'</span><span style=\"color: #008080; text-decoration-color: #008080; font-weight: bold\">: </span><span style=\"color: #008080; text-decoration-color: #008080; font-weight: bold\">'2024-04-08T15:00'</span><span style=\"color: #008080; text-decoration-color: #008080; font-weight: bold\">, </span>\n",
       "<span style=\"color: #008080; text-decoration-color: #008080; font-weight: bold\">'interval'</span><span style=\"color: #008080; text-decoration-color: #008080; font-weight: bold\">: </span><span style=\"color: #008080; text-decoration-color: #008080; font-weight: bold\">900</span><span style=\"color: #008080; text-decoration-color: #008080; font-weight: bold\">, </span><span style=\"color: #008080; text-decoration-color: #008080; font-weight: bold\">'temperature'</span><span style=\"color: #008080; text-decoration-color: #008080; font-weight: bold\">: </span><span style=\"color: #008080; text-decoration-color: #008080; font-weight: bold\">13.7</span><span style=\"color: #008080; text-decoration-color: #008080; font-weight: bold\">, </span><span style=\"color: #008080; text-decoration-color: #008080; font-weight: bold\">'windspeed'</span><span style=\"color: #008080; text-decoration-color: #008080; font-weight: bold\">: </span><span style=\"color: #008080; text-decoration-color: #008080; font-weight: bold\">25.4</span><span style=\"color: #008080; text-decoration-color: #008080; font-weight: bold\">, </span><span style=\"color: #008080; text-decoration-color: #008080; font-weight: bold\">'winddirection'</span><span style=\"color: #008080; text-decoration-color: #008080; font-weight: bold\">: </span><span style=\"color: #008080; text-decoration-color: #008080; font-weight: bold\">348</span><span style=\"color: #008080; text-decoration-color: #008080; font-weight: bold\">, </span><span style=\"color: #008080; text-decoration-color: #008080; font-weight: bold\">'is_day'</span><span style=\"color: #008080; text-decoration-color: #008080; font-weight: bold\">: </span><span style=\"color: #008080; text-decoration-color: #008080; font-weight: bold\">1</span><span style=\"color: #008080; text-decoration-color: #008080; font-weight: bold\">, </span><span style=\"color: #008080; text-decoration-color: #008080; font-weight: bold\">'weathercode'</span><span style=\"color: #008080; text-decoration-color: #008080; font-weight: bold\">: </span><span style=\"color: #008080; text-decoration-color: #008080; font-weight: bold\">0</span><span style=\"color: #008080; text-decoration-color: #008080; font-weight: bold\">}} </span>\n",
       "</pre>\n"
      ],
      "text/plain": [
       "\u001b[1;36mFunction call results: \u001b[0m\u001b[1;36m{\u001b[0m\u001b[1;36m'latitude'\u001b[0m\u001b[1;36m: \u001b[0m\u001b[1;36m36.16438\u001b[0m\u001b[1;36m, \u001b[0m\u001b[1;36m'longitude'\u001b[0m\u001b[1;36m: \u001b[0m\u001b[1;36m-115.143936\u001b[0m\u001b[1;36m, \u001b[0m\u001b[1;36m'generationtime_ms'\u001b[0m\u001b[1;36m: \u001b[0m\u001b[1;36m0.07998943328857422\u001b[0m\u001b[1;36m, \u001b[0m\n",
       "\u001b[1;36m'utc_offset_seconds'\u001b[0m\u001b[1;36m: \u001b[0m\u001b[1;36m0\u001b[0m\u001b[1;36m, \u001b[0m\u001b[1;36m'timezone'\u001b[0m\u001b[1;36m: \u001b[0m\u001b[1;36m'GMT'\u001b[0m\u001b[1;36m, \u001b[0m\u001b[1;36m'timezone_abbreviation'\u001b[0m\u001b[1;36m: \u001b[0m\u001b[1;36m'GMT'\u001b[0m\u001b[1;36m, \u001b[0m\u001b[1;36m'elevation'\u001b[0m\u001b[1;36m: \u001b[0m\u001b[1;36m620.0\u001b[0m\u001b[1;36m, \u001b[0m\n",
       "\u001b[1;36m'current_weather_units'\u001b[0m\u001b[1;36m: \u001b[0m\u001b[1;36m{\u001b[0m\u001b[1;36m'time'\u001b[0m\u001b[1;36m: \u001b[0m\u001b[1;36m'iso8601'\u001b[0m\u001b[1;36m, \u001b[0m\u001b[1;36m'interval'\u001b[0m\u001b[1;36m: \u001b[0m\u001b[1;36m'seconds'\u001b[0m\u001b[1;36m, \u001b[0m\u001b[1;36m'temperature'\u001b[0m\u001b[1;36m: \u001b[0m\u001b[1;36m'°C'\u001b[0m\u001b[1;36m, \u001b[0m\u001b[1;36m'windspeed'\u001b[0m\u001b[1;36m: \u001b[0m\u001b[1;36m'km/h'\u001b[0m\u001b[1;36m, \u001b[0m\n",
       "\u001b[1;36m'winddirection'\u001b[0m\u001b[1;36m: \u001b[0m\u001b[1;36m'°'\u001b[0m\u001b[1;36m, \u001b[0m\u001b[1;36m'is_day'\u001b[0m\u001b[1;36m: \u001b[0m\u001b[1;36m''\u001b[0m\u001b[1;36m, \u001b[0m\u001b[1;36m'weathercode'\u001b[0m\u001b[1;36m: \u001b[0m\u001b[1;36m'wmo code'\u001b[0m\u001b[1;36m}\u001b[0m\u001b[1;36m, \u001b[0m\u001b[1;36m'current_weather'\u001b[0m\u001b[1;36m: \u001b[0m\u001b[1;36m{\u001b[0m\u001b[1;36m'time'\u001b[0m\u001b[1;36m: \u001b[0m\u001b[1;36m'2024-04-08T15:00'\u001b[0m\u001b[1;36m, \u001b[0m\n",
       "\u001b[1;36m'interval'\u001b[0m\u001b[1;36m: \u001b[0m\u001b[1;36m900\u001b[0m\u001b[1;36m, \u001b[0m\u001b[1;36m'temperature'\u001b[0m\u001b[1;36m: \u001b[0m\u001b[1;36m13.7\u001b[0m\u001b[1;36m, \u001b[0m\u001b[1;36m'windspeed'\u001b[0m\u001b[1;36m: \u001b[0m\u001b[1;36m25.4\u001b[0m\u001b[1;36m, \u001b[0m\u001b[1;36m'winddirection'\u001b[0m\u001b[1;36m: \u001b[0m\u001b[1;36m348\u001b[0m\u001b[1;36m, \u001b[0m\u001b[1;36m'is_day'\u001b[0m\u001b[1;36m: \u001b[0m\u001b[1;36m1\u001b[0m\u001b[1;36m, \u001b[0m\u001b[1;36m'weathercode'\u001b[0m\u001b[1;36m: \u001b[0m\u001b[1;36m0\u001b[0m\u001b[1;36m}\u001b[0m\u001b[1;36m}\u001b[0m\u001b[1;36m \u001b[0m\n"
      ]
     },
     "metadata": {},
     "output_type": "display_data"
    },
    {
     "data": {
      "text/html": [
       "<pre style=\"white-space:pre;overflow-x:auto;line-height:normal;font-family:Menlo,'DejaVu Sans Mono',consolas,'Courier New',monospace\"><span style=\"color: #008000; text-decoration-color: #008000; font-weight: bold\">&lt;thoughts</span><span style=\"color: #008000; text-decoration-color: #008000\">&gt;</span>\n",
       "<span style=\"color: #008000; text-decoration-color: #008000\">The function results already contain the latitude and longitude of Las Vegas, as well as the current weather </span>\n",
       "<span style=\"color: #008000; text-decoration-color: #008000\">information for that location from the get_weather function call. I should have enough information to answer the </span>\n",
       "<span style=\"color: #008000; text-decoration-color: #008000\">question without needing to make any additional function calls.</span>\n",
       "<span style=\"color: #008000; text-decoration-color: #008000\">&lt;/thoughts&gt;</span>\n",
       "\n",
       "<span style=\"color: #008000; text-decoration-color: #008000\">&lt;answer</span><span style=\"color: #008000; text-decoration-color: #008000; font-weight: bold\">&gt;</span>\n",
       "<span style=\"color: #008000; text-decoration-color: #008000\">The current weather in Las Vegas is </span><span style=\"color: #008000; text-decoration-color: #008000; font-weight: bold\">13.7</span><span style=\"color: #008000; text-decoration-color: #008000\">°C with a wind speed of </span><span style=\"color: #008000; text-decoration-color: #008000; font-weight: bold\">25.4</span><span style=\"color: #008000; text-decoration-color: #008000\"> km/h blowing from the north-northwest </span><span style=\"color: #008000; text-decoration-color: #008000; font-weight: bold\">(</span><span style=\"color: #008000; text-decoration-color: #008000; font-weight: bold\">348</span><span style=\"color: #008000; text-decoration-color: #008000\">°</span><span style=\"color: #008000; text-decoration-color: #008000; font-weight: bold\">)</span><span style=\"color: #008000; text-decoration-color: #008000\">. </span>\n",
       "<span style=\"color: #008000; text-decoration-color: #008000\">The weather code </span><span style=\"color: #008000; text-decoration-color: #008000; font-weight: bold\">0</span><span style=\"color: #008000; text-decoration-color: #008000\"> indicates clear sky conditions.</span>\n",
       "\n",
       "</pre>\n"
      ],
      "text/plain": [
       "\u001b[1;32m<\u001b[0m\u001b[1;32mthoughts\u001b[0m\u001b[32m>\u001b[0m\n",
       "\u001b[32mThe function results already contain the latitude and longitude of Las Vegas, as well as the current weather \u001b[0m\n",
       "\u001b[32minformation for that location from the get_weather function call. I should have enough information to answer the \u001b[0m\n",
       "\u001b[32mquestion without needing to make any additional function calls.\u001b[0m\n",
       "\u001b[32m<\u001b[0m\u001b[32m/\u001b[0m\u001b[32mthoughts\u001b[0m\u001b[32m>\u001b[0m\n",
       "\n",
       "\u001b[32m<answer\u001b[0m\u001b[1;32m>\u001b[0m\n",
       "\u001b[32mThe current weather in Las Vegas is \u001b[0m\u001b[1;32m13.7\u001b[0m\u001b[32m°C with a wind speed of \u001b[0m\u001b[1;32m25.4\u001b[0m\u001b[32m km/h blowing from the north-northwest \u001b[0m\u001b[1;32m(\u001b[0m\u001b[1;32m348\u001b[0m\u001b[32m°\u001b[0m\u001b[1;32m)\u001b[0m\u001b[32m. \u001b[0m\n",
       "\u001b[32mThe weather code \u001b[0m\u001b[1;32m0\u001b[0m\u001b[32m indicates clear sky conditions.\u001b[0m\n",
       "\n"
      ]
     },
     "metadata": {},
     "output_type": "display_data"
    },
    {
     "data": {
      "text/html": [
       "<pre style=\"white-space:pre;overflow-x:auto;line-height:normal;font-family:Menlo,'DejaVu Sans Mono',consolas,'Courier New',monospace\"><span style=\"color: #f77f00; text-decoration-color: #f77f00\">==========FINAL </span><span style=\"color: #f77f00; text-decoration-color: #f77f00\">OUTPUT</span><span style=\"color: #f77f00; text-decoration-color: #f77f00\">==========</span>\n",
       "\n",
       "<span style=\"color: #f77f00; text-decoration-color: #f77f00\">The current weather in Las Vegas is </span><span style=\"color: #f77f00; text-decoration-color: #f77f00; font-weight: bold\">13.7</span><span style=\"color: #f77f00; text-decoration-color: #f77f00\">°C with a wind speed of </span><span style=\"color: #f77f00; text-decoration-color: #f77f00; font-weight: bold\">25.4</span><span style=\"color: #f77f00; text-decoration-color: #f77f00\"> km/h blowing from the north-northwest </span><span style=\"color: #f77f00; text-decoration-color: #f77f00; font-weight: bold\">(</span><span style=\"color: #f77f00; text-decoration-color: #f77f00; font-weight: bold\">348</span><span style=\"color: #f77f00; text-decoration-color: #f77f00\">°</span><span style=\"color: #f77f00; text-decoration-color: #f77f00; font-weight: bold\">)</span><span style=\"color: #f77f00; text-decoration-color: #f77f00\">. </span>\n",
       "<span style=\"color: #f77f00; text-decoration-color: #f77f00\">The weather code </span><span style=\"color: #f77f00; text-decoration-color: #f77f00; font-weight: bold\">0</span><span style=\"color: #f77f00; text-decoration-color: #f77f00\"> indicates clear sky conditions.</span>\n",
       "\n",
       "<span style=\"color: #f77f00; text-decoration-color: #f77f00\">==============================</span>\n",
       "</pre>\n"
      ],
      "text/plain": [
       "\u001b[38;2;247;127;0m==========FINAL \u001b[0m\u001b[38;2;247;127;0mOUTPUT\u001b[0m\u001b[38;2;247;127;0m==========\u001b[0m\n",
       "\n",
       "\u001b[38;2;247;127;0mThe current weather in Las Vegas is \u001b[0m\u001b[1;38;2;247;127;0m13.7\u001b[0m\u001b[38;2;247;127;0m°C with a wind speed of \u001b[0m\u001b[1;38;2;247;127;0m25.4\u001b[0m\u001b[38;2;247;127;0m km/h blowing from the north-northwest \u001b[0m\u001b[1;38;2;247;127;0m(\u001b[0m\u001b[1;38;2;247;127;0m348\u001b[0m\u001b[38;2;247;127;0m°\u001b[0m\u001b[1;38;2;247;127;0m)\u001b[0m\u001b[38;2;247;127;0m. \u001b[0m\n",
       "\u001b[38;2;247;127;0mThe weather code \u001b[0m\u001b[1;38;2;247;127;0m0\u001b[0m\u001b[38;2;247;127;0m indicates clear sky conditions.\u001b[0m\n",
       "\n",
       "\u001b[38;2;247;127;0m==============================\u001b[0m\n"
      ]
     },
     "metadata": {},
     "output_type": "display_data"
    }
   ],
   "source": [
    "query = \"What is the weather in Las Vegas?\"\n",
    "# query = \"Is it currently warmer in Las Vegas or New York?\" # try to see what happens when you ask a more complex question\n",
    "\n",
    "intermediate_function_results = \"\"\n",
    "max_iter = 10\n",
    "\n",
    "while True:\n",
    "    output = func_chain.invoke(\n",
    "        {\n",
    "            \"user_request\": query,\n",
    "            \"function_results\": intermediate_function_results,\n",
    "        }\n",
    "    )\n",
    "    rprint(f\"[green]{output}[/green]\")\n",
    "\n",
    "    if (\"<answer>\" in output) | (max_iter == 0):\n",
    "        answer_idx = output.find(\"<answer>\")\n",
    "        output = output[answer_idx:].replace(\"<answer>\", \"\")\n",
    "        break\n",
    "\n",
    "    else:\n",
    "\n",
    "        calling_params = xml_to_dict(output)\n",
    "\n",
    "        func_call_results = call_function(**calling_params)\n",
    "        rprint(f'[bold cyan]Calling function {calling_params[\"tool_name\"]} with parameters {calling_params[\"parameters\"]} [/bold cyan]')\n",
    "        rprint(f'[bold cyan]Function call results: {func_call_results} [/bold cyan]')\n",
    "\n",
    "        parameters_xml = \"\\n\".join(\n",
    "            [f\"<{k}>{v}</{k}>\" for k, v in calling_params[\"parameters\"].items()]\n",
    "        )\n",
    "\n",
    "        intermediate_results = (\n",
    "            \"<result>\\n<tool_name>\"\n",
    "            + calling_params[\"tool_name\"]\n",
    "            + \"</tool_name>\\n\"\n",
    "            + \"<parameters>\\n\"\n",
    "            + parameters_xml\n",
    "            + \"\\n</parameters>\\n<output>\"\n",
    "            + json.dumps(func_call_results)\n",
    "            + \"\\n</output>\\n</result>\\n\"\n",
    "        )\n",
    "\n",
    "        intermediate_function_results += intermediate_results\n",
    "        max_iter -= 1\n",
    "\n",
    "rprint(f\"[#f77f00]==========FINAL OUTPUT==========\\n{output}\\n==============================[/#f77f00]\")"
   ]
  },
  {
   "cell_type": "markdown",
   "id": "a70b217d",
   "metadata": {},
   "source": [
    "---\n",
    "## Next steps\n",
    "\n",
    "Now that you have used a few different retrieval systems, lets move on to the next notebook where you can apply the skills you've learned so far!"
   ]
  }
 ],
 "metadata": {
  "availableInstances": [
   {
    "_defaultOrder": 0,
    "_isFastLaunch": true,
    "category": "General purpose",
    "gpuNum": 0,
    "hideHardwareSpecs": false,
    "memoryGiB": 4,
    "name": "ml.t3.medium",
    "vcpuNum": 2
   },
   {
    "_defaultOrder": 1,
    "_isFastLaunch": false,
    "category": "General purpose",
    "gpuNum": 0,
    "hideHardwareSpecs": false,
    "memoryGiB": 8,
    "name": "ml.t3.large",
    "vcpuNum": 2
   },
   {
    "_defaultOrder": 2,
    "_isFastLaunch": false,
    "category": "General purpose",
    "gpuNum": 0,
    "hideHardwareSpecs": false,
    "memoryGiB": 16,
    "name": "ml.t3.xlarge",
    "vcpuNum": 4
   },
   {
    "_defaultOrder": 3,
    "_isFastLaunch": false,
    "category": "General purpose",
    "gpuNum": 0,
    "hideHardwareSpecs": false,
    "memoryGiB": 32,
    "name": "ml.t3.2xlarge",
    "vcpuNum": 8
   },
   {
    "_defaultOrder": 4,
    "_isFastLaunch": true,
    "category": "General purpose",
    "gpuNum": 0,
    "hideHardwareSpecs": false,
    "memoryGiB": 8,
    "name": "ml.m5.large",
    "vcpuNum": 2
   },
   {
    "_defaultOrder": 5,
    "_isFastLaunch": false,
    "category": "General purpose",
    "gpuNum": 0,
    "hideHardwareSpecs": false,
    "memoryGiB": 16,
    "name": "ml.m5.xlarge",
    "vcpuNum": 4
   },
   {
    "_defaultOrder": 6,
    "_isFastLaunch": false,
    "category": "General purpose",
    "gpuNum": 0,
    "hideHardwareSpecs": false,
    "memoryGiB": 32,
    "name": "ml.m5.2xlarge",
    "vcpuNum": 8
   },
   {
    "_defaultOrder": 7,
    "_isFastLaunch": false,
    "category": "General purpose",
    "gpuNum": 0,
    "hideHardwareSpecs": false,
    "memoryGiB": 64,
    "name": "ml.m5.4xlarge",
    "vcpuNum": 16
   },
   {
    "_defaultOrder": 8,
    "_isFastLaunch": false,
    "category": "General purpose",
    "gpuNum": 0,
    "hideHardwareSpecs": false,
    "memoryGiB": 128,
    "name": "ml.m5.8xlarge",
    "vcpuNum": 32
   },
   {
    "_defaultOrder": 9,
    "_isFastLaunch": false,
    "category": "General purpose",
    "gpuNum": 0,
    "hideHardwareSpecs": false,
    "memoryGiB": 192,
    "name": "ml.m5.12xlarge",
    "vcpuNum": 48
   },
   {
    "_defaultOrder": 10,
    "_isFastLaunch": false,
    "category": "General purpose",
    "gpuNum": 0,
    "hideHardwareSpecs": false,
    "memoryGiB": 256,
    "name": "ml.m5.16xlarge",
    "vcpuNum": 64
   },
   {
    "_defaultOrder": 11,
    "_isFastLaunch": false,
    "category": "General purpose",
    "gpuNum": 0,
    "hideHardwareSpecs": false,
    "memoryGiB": 384,
    "name": "ml.m5.24xlarge",
    "vcpuNum": 96
   },
   {
    "_defaultOrder": 12,
    "_isFastLaunch": false,
    "category": "General purpose",
    "gpuNum": 0,
    "hideHardwareSpecs": false,
    "memoryGiB": 8,
    "name": "ml.m5d.large",
    "vcpuNum": 2
   },
   {
    "_defaultOrder": 13,
    "_isFastLaunch": false,
    "category": "General purpose",
    "gpuNum": 0,
    "hideHardwareSpecs": false,
    "memoryGiB": 16,
    "name": "ml.m5d.xlarge",
    "vcpuNum": 4
   },
   {
    "_defaultOrder": 14,
    "_isFastLaunch": false,
    "category": "General purpose",
    "gpuNum": 0,
    "hideHardwareSpecs": false,
    "memoryGiB": 32,
    "name": "ml.m5d.2xlarge",
    "vcpuNum": 8
   },
   {
    "_defaultOrder": 15,
    "_isFastLaunch": false,
    "category": "General purpose",
    "gpuNum": 0,
    "hideHardwareSpecs": false,
    "memoryGiB": 64,
    "name": "ml.m5d.4xlarge",
    "vcpuNum": 16
   },
   {
    "_defaultOrder": 16,
    "_isFastLaunch": false,
    "category": "General purpose",
    "gpuNum": 0,
    "hideHardwareSpecs": false,
    "memoryGiB": 128,
    "name": "ml.m5d.8xlarge",
    "vcpuNum": 32
   },
   {
    "_defaultOrder": 17,
    "_isFastLaunch": false,
    "category": "General purpose",
    "gpuNum": 0,
    "hideHardwareSpecs": false,
    "memoryGiB": 192,
    "name": "ml.m5d.12xlarge",
    "vcpuNum": 48
   },
   {
    "_defaultOrder": 18,
    "_isFastLaunch": false,
    "category": "General purpose",
    "gpuNum": 0,
    "hideHardwareSpecs": false,
    "memoryGiB": 256,
    "name": "ml.m5d.16xlarge",
    "vcpuNum": 64
   },
   {
    "_defaultOrder": 19,
    "_isFastLaunch": false,
    "category": "General purpose",
    "gpuNum": 0,
    "hideHardwareSpecs": false,
    "memoryGiB": 384,
    "name": "ml.m5d.24xlarge",
    "vcpuNum": 96
   },
   {
    "_defaultOrder": 20,
    "_isFastLaunch": false,
    "category": "General purpose",
    "gpuNum": 0,
    "hideHardwareSpecs": true,
    "memoryGiB": 0,
    "name": "ml.geospatial.interactive",
    "supportedImageNames": [
     "sagemaker-geospatial-v1-0"
    ],
    "vcpuNum": 0
   },
   {
    "_defaultOrder": 21,
    "_isFastLaunch": true,
    "category": "Compute optimized",
    "gpuNum": 0,
    "hideHardwareSpecs": false,
    "memoryGiB": 4,
    "name": "ml.c5.large",
    "vcpuNum": 2
   },
   {
    "_defaultOrder": 22,
    "_isFastLaunch": false,
    "category": "Compute optimized",
    "gpuNum": 0,
    "hideHardwareSpecs": false,
    "memoryGiB": 8,
    "name": "ml.c5.xlarge",
    "vcpuNum": 4
   },
   {
    "_defaultOrder": 23,
    "_isFastLaunch": false,
    "category": "Compute optimized",
    "gpuNum": 0,
    "hideHardwareSpecs": false,
    "memoryGiB": 16,
    "name": "ml.c5.2xlarge",
    "vcpuNum": 8
   },
   {
    "_defaultOrder": 24,
    "_isFastLaunch": false,
    "category": "Compute optimized",
    "gpuNum": 0,
    "hideHardwareSpecs": false,
    "memoryGiB": 32,
    "name": "ml.c5.4xlarge",
    "vcpuNum": 16
   },
   {
    "_defaultOrder": 25,
    "_isFastLaunch": false,
    "category": "Compute optimized",
    "gpuNum": 0,
    "hideHardwareSpecs": false,
    "memoryGiB": 72,
    "name": "ml.c5.9xlarge",
    "vcpuNum": 36
   },
   {
    "_defaultOrder": 26,
    "_isFastLaunch": false,
    "category": "Compute optimized",
    "gpuNum": 0,
    "hideHardwareSpecs": false,
    "memoryGiB": 96,
    "name": "ml.c5.12xlarge",
    "vcpuNum": 48
   },
   {
    "_defaultOrder": 27,
    "_isFastLaunch": false,
    "category": "Compute optimized",
    "gpuNum": 0,
    "hideHardwareSpecs": false,
    "memoryGiB": 144,
    "name": "ml.c5.18xlarge",
    "vcpuNum": 72
   },
   {
    "_defaultOrder": 28,
    "_isFastLaunch": false,
    "category": "Compute optimized",
    "gpuNum": 0,
    "hideHardwareSpecs": false,
    "memoryGiB": 192,
    "name": "ml.c5.24xlarge",
    "vcpuNum": 96
   },
   {
    "_defaultOrder": 29,
    "_isFastLaunch": true,
    "category": "Accelerated computing",
    "gpuNum": 1,
    "hideHardwareSpecs": false,
    "memoryGiB": 16,
    "name": "ml.g4dn.xlarge",
    "vcpuNum": 4
   },
   {
    "_defaultOrder": 30,
    "_isFastLaunch": false,
    "category": "Accelerated computing",
    "gpuNum": 1,
    "hideHardwareSpecs": false,
    "memoryGiB": 32,
    "name": "ml.g4dn.2xlarge",
    "vcpuNum": 8
   },
   {
    "_defaultOrder": 31,
    "_isFastLaunch": false,
    "category": "Accelerated computing",
    "gpuNum": 1,
    "hideHardwareSpecs": false,
    "memoryGiB": 64,
    "name": "ml.g4dn.4xlarge",
    "vcpuNum": 16
   },
   {
    "_defaultOrder": 32,
    "_isFastLaunch": false,
    "category": "Accelerated computing",
    "gpuNum": 1,
    "hideHardwareSpecs": false,
    "memoryGiB": 128,
    "name": "ml.g4dn.8xlarge",
    "vcpuNum": 32
   },
   {
    "_defaultOrder": 33,
    "_isFastLaunch": false,
    "category": "Accelerated computing",
    "gpuNum": 4,
    "hideHardwareSpecs": false,
    "memoryGiB": 192,
    "name": "ml.g4dn.12xlarge",
    "vcpuNum": 48
   },
   {
    "_defaultOrder": 34,
    "_isFastLaunch": false,
    "category": "Accelerated computing",
    "gpuNum": 1,
    "hideHardwareSpecs": false,
    "memoryGiB": 256,
    "name": "ml.g4dn.16xlarge",
    "vcpuNum": 64
   },
   {
    "_defaultOrder": 35,
    "_isFastLaunch": false,
    "category": "Accelerated computing",
    "gpuNum": 1,
    "hideHardwareSpecs": false,
    "memoryGiB": 61,
    "name": "ml.p3.2xlarge",
    "vcpuNum": 8
   },
   {
    "_defaultOrder": 36,
    "_isFastLaunch": false,
    "category": "Accelerated computing",
    "gpuNum": 4,
    "hideHardwareSpecs": false,
    "memoryGiB": 244,
    "name": "ml.p3.8xlarge",
    "vcpuNum": 32
   },
   {
    "_defaultOrder": 37,
    "_isFastLaunch": false,
    "category": "Accelerated computing",
    "gpuNum": 8,
    "hideHardwareSpecs": false,
    "memoryGiB": 488,
    "name": "ml.p3.16xlarge",
    "vcpuNum": 64
   },
   {
    "_defaultOrder": 38,
    "_isFastLaunch": false,
    "category": "Accelerated computing",
    "gpuNum": 8,
    "hideHardwareSpecs": false,
    "memoryGiB": 768,
    "name": "ml.p3dn.24xlarge",
    "vcpuNum": 96
   },
   {
    "_defaultOrder": 39,
    "_isFastLaunch": false,
    "category": "Memory Optimized",
    "gpuNum": 0,
    "hideHardwareSpecs": false,
    "memoryGiB": 16,
    "name": "ml.r5.large",
    "vcpuNum": 2
   },
   {
    "_defaultOrder": 40,
    "_isFastLaunch": false,
    "category": "Memory Optimized",
    "gpuNum": 0,
    "hideHardwareSpecs": false,
    "memoryGiB": 32,
    "name": "ml.r5.xlarge",
    "vcpuNum": 4
   },
   {
    "_defaultOrder": 41,
    "_isFastLaunch": false,
    "category": "Memory Optimized",
    "gpuNum": 0,
    "hideHardwareSpecs": false,
    "memoryGiB": 64,
    "name": "ml.r5.2xlarge",
    "vcpuNum": 8
   },
   {
    "_defaultOrder": 42,
    "_isFastLaunch": false,
    "category": "Memory Optimized",
    "gpuNum": 0,
    "hideHardwareSpecs": false,
    "memoryGiB": 128,
    "name": "ml.r5.4xlarge",
    "vcpuNum": 16
   },
   {
    "_defaultOrder": 43,
    "_isFastLaunch": false,
    "category": "Memory Optimized",
    "gpuNum": 0,
    "hideHardwareSpecs": false,
    "memoryGiB": 256,
    "name": "ml.r5.8xlarge",
    "vcpuNum": 32
   },
   {
    "_defaultOrder": 44,
    "_isFastLaunch": false,
    "category": "Memory Optimized",
    "gpuNum": 0,
    "hideHardwareSpecs": false,
    "memoryGiB": 384,
    "name": "ml.r5.12xlarge",
    "vcpuNum": 48
   },
   {
    "_defaultOrder": 45,
    "_isFastLaunch": false,
    "category": "Memory Optimized",
    "gpuNum": 0,
    "hideHardwareSpecs": false,
    "memoryGiB": 512,
    "name": "ml.r5.16xlarge",
    "vcpuNum": 64
   },
   {
    "_defaultOrder": 46,
    "_isFastLaunch": false,
    "category": "Memory Optimized",
    "gpuNum": 0,
    "hideHardwareSpecs": false,
    "memoryGiB": 768,
    "name": "ml.r5.24xlarge",
    "vcpuNum": 96
   },
   {
    "_defaultOrder": 47,
    "_isFastLaunch": false,
    "category": "Accelerated computing",
    "gpuNum": 1,
    "hideHardwareSpecs": false,
    "memoryGiB": 16,
    "name": "ml.g5.xlarge",
    "vcpuNum": 4
   },
   {
    "_defaultOrder": 48,
    "_isFastLaunch": false,
    "category": "Accelerated computing",
    "gpuNum": 1,
    "hideHardwareSpecs": false,
    "memoryGiB": 32,
    "name": "ml.g5.2xlarge",
    "vcpuNum": 8
   },
   {
    "_defaultOrder": 49,
    "_isFastLaunch": false,
    "category": "Accelerated computing",
    "gpuNum": 1,
    "hideHardwareSpecs": false,
    "memoryGiB": 64,
    "name": "ml.g5.4xlarge",
    "vcpuNum": 16
   },
   {
    "_defaultOrder": 50,
    "_isFastLaunch": false,
    "category": "Accelerated computing",
    "gpuNum": 1,
    "hideHardwareSpecs": false,
    "memoryGiB": 128,
    "name": "ml.g5.8xlarge",
    "vcpuNum": 32
   },
   {
    "_defaultOrder": 51,
    "_isFastLaunch": false,
    "category": "Accelerated computing",
    "gpuNum": 1,
    "hideHardwareSpecs": false,
    "memoryGiB": 256,
    "name": "ml.g5.16xlarge",
    "vcpuNum": 64
   },
   {
    "_defaultOrder": 52,
    "_isFastLaunch": false,
    "category": "Accelerated computing",
    "gpuNum": 4,
    "hideHardwareSpecs": false,
    "memoryGiB": 192,
    "name": "ml.g5.12xlarge",
    "vcpuNum": 48
   },
   {
    "_defaultOrder": 53,
    "_isFastLaunch": false,
    "category": "Accelerated computing",
    "gpuNum": 4,
    "hideHardwareSpecs": false,
    "memoryGiB": 384,
    "name": "ml.g5.24xlarge",
    "vcpuNum": 96
   },
   {
    "_defaultOrder": 54,
    "_isFastLaunch": false,
    "category": "Accelerated computing",
    "gpuNum": 8,
    "hideHardwareSpecs": false,
    "memoryGiB": 768,
    "name": "ml.g5.48xlarge",
    "vcpuNum": 192
   },
   {
    "_defaultOrder": 55,
    "_isFastLaunch": false,
    "category": "Accelerated computing",
    "gpuNum": 8,
    "hideHardwareSpecs": false,
    "memoryGiB": 1152,
    "name": "ml.p4d.24xlarge",
    "vcpuNum": 96
   },
   {
    "_defaultOrder": 56,
    "_isFastLaunch": false,
    "category": "Accelerated computing",
    "gpuNum": 8,
    "hideHardwareSpecs": false,
    "memoryGiB": 1152,
    "name": "ml.p4de.24xlarge",
    "vcpuNum": 96
   },
   {
    "_defaultOrder": 57,
    "_isFastLaunch": false,
    "category": "Accelerated computing",
    "gpuNum": 0,
    "hideHardwareSpecs": false,
    "memoryGiB": 32,
    "name": "ml.trn1.2xlarge",
    "vcpuNum": 8
   },
   {
    "_defaultOrder": 58,
    "_isFastLaunch": false,
    "category": "Accelerated computing",
    "gpuNum": 0,
    "hideHardwareSpecs": false,
    "memoryGiB": 512,
    "name": "ml.trn1.32xlarge",
    "vcpuNum": 128
   },
   {
    "_defaultOrder": 59,
    "_isFastLaunch": false,
    "category": "Accelerated computing",
    "gpuNum": 0,
    "hideHardwareSpecs": false,
    "memoryGiB": 512,
    "name": "ml.trn1n.32xlarge",
    "vcpuNum": 128
   }
  ],
  "instance_type": "ml.t3.medium",
  "kernelspec": {
   "display_name": "base",
   "language": "python",
   "name": "python3"
  },
  "language_info": {
   "codemirror_mode": {
    "name": "ipython",
    "version": 3
   },
   "file_extension": ".py",
   "mimetype": "text/x-python",
   "name": "python",
   "nbconvert_exporter": "python",
   "pygments_lexer": "ipython3",
   "version": "3.10.12"
  }
 },
 "nbformat": 4,
 "nbformat_minor": 5
}
