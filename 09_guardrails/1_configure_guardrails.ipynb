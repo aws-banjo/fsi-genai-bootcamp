{
 "cells": [
  {
   "cell_type": "markdown",
   "metadata": {},
   "source": [
    "# Amazon Bedrock Guardrails configuration\n",
    "\n",
    "> *This notebook should work well with the **`Data Science 3.0`** kernel in SageMaker Studio on ml.t3.medium instance*\n",
    "\n",
    "In this notebook, we will perform the following tasks to build and test a guardrail configuration.\n",
    "\n",
    "1. Create new guardrail\n",
    "2. Configure tolerance levels for different content types\n",
    "3. Configure default response for the denied topics\n",
    "4. Configure personally identifiable information (PII) detection and masking\n",
    "5. Configure filter words\n",
    "6. Test the guardrail configuration without invoking a large language model (LLM)\n",
    "\n",
    "We have a lot to cover. So, let's jump in!"
   ]
  }
 ],
 "metadata": {
  "language_info": {
   "name": "python"
  }
 },
 "nbformat": 4,
 "nbformat_minor": 2
}
